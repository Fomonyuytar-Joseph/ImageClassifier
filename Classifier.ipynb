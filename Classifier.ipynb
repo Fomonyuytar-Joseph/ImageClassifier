{
  "nbformat": 4,
  "nbformat_minor": 0,
  "metadata": {
    "colab": {
      "name": "Classifier.ipynb",
      "provenance": [],
      "collapsed_sections": [],
      "mount_file_id": "1wyBoZNCkyYxWrjC-iZnXkoc27URFZMzD",
      "authorship_tag": "ABX9TyMc/9hYhjOANLFctS+FYL+w",
      "include_colab_link": true
    },
    "kernelspec": {
      "name": "python3",
      "display_name": "Python 3"
    },
    "language_info": {
      "name": "python"
    },
    "accelerator": "GPU"
  },
  "cells": [
    {
      "cell_type": "markdown",
      "metadata": {
        "id": "view-in-github",
        "colab_type": "text"
      },
      "source": [
        "<a href=\"https://colab.research.google.com/github/Fomonyuytar-Joseph/ImageClassifier/blob/main/Classifier.ipynb\" target=\"_parent\"><img src=\"https://colab.research.google.com/assets/colab-badge.svg\" alt=\"Open In Colab\"/></a>"
      ]
    },
    {
      "cell_type": "code",
      "execution_count": 167,
      "metadata": {
        "id": "TpKgsl8sO1mP"
      },
      "outputs": [],
      "source": [
        "import numpy as np\n",
        "import os\n",
        "import cv2\n",
        "from PIL import Image\n",
        "import keras\n",
        "from keras.utils import np_utils\n",
        "# import sequential model and all the required layers\n",
        "from keras.models import Sequential\n",
        "from keras.layers import Conv2D,MaxPooling2D,Dense,Flatten,Dropout\n",
        "from keras.models import model_from_json"
      ]
    },
    {
      "cell_type": "code",
      "source": [
        "data=[]\n",
        "labels=[]\n",
        "cats=os.listdir(\"/content/drive/MyDrive/dataset/train/cats\")"
      ],
      "metadata": {
        "id": "acwytJD_Q143"
      },
      "execution_count": 168,
      "outputs": []
    },
    {
      "cell_type": "code",
      "source": [
        "for cat in cats:\n",
        "  imag=cv2.imread(\"/content/drive/MyDrive/dataset/train/cats/\"+cat)\n",
        "  img_from_ar = Image.fromarray(imag, 'RGB')\n",
        "  resized_image = img_from_ar.resize((50, 50))\n",
        "  data.append(np.array(resized_image))\n",
        "  labels.append(0)"
      ],
      "metadata": {
        "id": "kxv11gWWRAdh"
      },
      "execution_count": 169,
      "outputs": []
    },
    {
      "cell_type": "code",
      "source": [
        "dogs=os.listdir(\"/content/drive/MyDrive/dataset/train/dogs\")\n",
        "for dog in dogs:\n",
        " imag=cv2.imread(\"/content/drive/MyDrive/dataset/train/dogs/\"+dog)\n",
        " img_from_ar = Image.fromarray(imag, 'RGB')\n",
        " resized_image = img_from_ar.resize((50, 50))\n",
        " data.append(np.array(resized_image))\n",
        " labels.append(1)"
      ],
      "metadata": {
        "id": "8tDvE3iNRwk7"
      },
      "execution_count": 170,
      "outputs": []
    },
    {
      "cell_type": "code",
      "source": [
        "snakes=os.listdir(\"/content/drive/MyDrive/dataset/train/snake\")\n",
        "for snake in snakes:\n",
        " imag=cv2.imread(\"/content/drive/MyDrive/dataset/train/snake/\"+snake)\n",
        " img_from_ar = Image.fromarray(imag, 'RGB')\n",
        " resized_image = img_from_ar.resize((50, 50))\n",
        " data.append(np.array(resized_image))\n",
        " labels.append(2)"
      ],
      "metadata": {
        "id": "WvJMV5wGhyYQ"
      },
      "execution_count": 171,
      "outputs": []
    },
    {
      "cell_type": "code",
      "source": [
        "\n",
        "fishs=os.listdir(\"/content/drive/MyDrive/dataset/train/fish\")\n",
        "for fish in fishs:\n",
        " imag=cv2.imread(\"/content/drive/MyDrive/dataset/train/fish/\"+fish)\n",
        " img_from_ar = Image.fromarray(imag, 'RGB')\n",
        " resized_image = img_from_ar.resize((50, 50))\n",
        " data.append(np.array(resized_image))\n",
        " labels.append(3)"
      ],
      "metadata": {
        "id": "1F81l1syh5Y4"
      },
      "execution_count": 172,
      "outputs": []
    },
    {
      "cell_type": "code",
      "source": [
        "parrots=os.listdir(\"/content/drive/MyDrive/dataset/train/parrot\")\n",
        "for parrot in parrots:\n",
        " imag=cv2.imread(\"/content/drive/MyDrive/dataset/train/parrot/\"+parrot)\n",
        " img_from_ar = Image.fromarray(imag, 'RGB')\n",
        " resized_image = img_from_ar.resize((50, 50))\n",
        " data.append(np.array(resized_image))\n",
        " labels.append(4)"
      ],
      "metadata": {
        "id": "2Y_86QVpoUWO"
      },
      "execution_count": 173,
      "outputs": []
    },
    {
      "cell_type": "code",
      "source": [
        "\n",
        "animals=np.array(data)\n",
        "labels=np.array(labels)\n",
        "np.save(\"animals\",animals)\n",
        "np.save(\"labels\",labels)\n",
        "s=np.arange(animals.shape[0])\n",
        "np.random.shuffle(s)\n",
        "animals=animals[s]\n",
        "labels=labels[s]\n",
        "num_classes=len(np.unique(labels))\n",
        "data_length=len(animals)"
      ],
      "metadata": {
        "id": "YlU9XOTCSAIm"
      },
      "execution_count": 174,
      "outputs": []
    },
    {
      "cell_type": "code",
      "source": [
        "(x_train,x_test)=animals[(int)(0.1*data_length):],animals[:(int)(0.1*data_length)]\n",
        "x_train = x_train.astype('float32')/255\n",
        "x_test = x_test.astype('float32')/255\n",
        "train_length=len(x_train)\n",
        "test_length=len(x_test)"
      ],
      "metadata": {
        "id": "BxLV7SeXSEuY"
      },
      "execution_count": 175,
      "outputs": []
    },
    {
      "cell_type": "code",
      "source": [
        "(y_train,y_test)=labels[(int)(0.1*data_length):],labels[:(int)(0.1*data_length)]\n",
        "\n",
        "#One hot encoding\n",
        "y_train=keras.utils.np_utils.to_categorical(y_train,num_classes)\n",
        "y_test=keras.utils.np_utils.to_categorical(y_test,num_classes)"
      ],
      "metadata": {
        "id": "nLqAAUWbSOmi"
      },
      "execution_count": 176,
      "outputs": []
    },
    {
      "cell_type": "code",
      "source": [
        "model=Sequential()\n",
        "model.add(Conv2D(filters=16,kernel_size=2,padding=\"same\",activation=\"relu\",input_shape=(50,50,3))),model.add(MaxPooling2D(pool_size=2)),model.add(Conv2D(filters=32,kernel_size=2,padding=\"same\",activation=\"relu\")),model.add(MaxPooling2D(pool_size=2)),model.add(Conv2D(filters=64,kernel_size=2,padding=\"same\",\n",
        "activation=\"relu\")),model.add(MaxPooling2D(pool_size=2))\n",
        "model.add(Dropout(0.2))\n",
        "model.add(Flatten())\n",
        "model.add(Dense(500,activation=\"relu\"))\n",
        "model.add(Dropout(0.2))\n",
        "model.add(Dense(5,activation=\"softmax\"))\n",
        "model.summary()\n"
      ],
      "metadata": {
        "colab": {
          "base_uri": "https://localhost:8080/"
        },
        "id": "kZSVjH6MTSSt",
        "outputId": "469d6739-5ebf-457e-b830-44cc536db215"
      },
      "execution_count": 177,
      "outputs": [
        {
          "output_type": "stream",
          "name": "stdout",
          "text": [
            "Model: \"sequential_12\"\n",
            "_________________________________________________________________\n",
            " Layer (type)                Output Shape              Param #   \n",
            "=================================================================\n",
            " conv2d_36 (Conv2D)          (None, 50, 50, 16)        208       \n",
            "                                                                 \n",
            " max_pooling2d_36 (MaxPoolin  (None, 25, 25, 16)       0         \n",
            " g2D)                                                            \n",
            "                                                                 \n",
            " conv2d_37 (Conv2D)          (None, 25, 25, 32)        2080      \n",
            "                                                                 \n",
            " max_pooling2d_37 (MaxPoolin  (None, 12, 12, 32)       0         \n",
            " g2D)                                                            \n",
            "                                                                 \n",
            " conv2d_38 (Conv2D)          (None, 12, 12, 64)        8256      \n",
            "                                                                 \n",
            " max_pooling2d_38 (MaxPoolin  (None, 6, 6, 64)         0         \n",
            " g2D)                                                            \n",
            "                                                                 \n",
            " dropout_24 (Dropout)        (None, 6, 6, 64)          0         \n",
            "                                                                 \n",
            " flatten_12 (Flatten)        (None, 2304)              0         \n",
            "                                                                 \n",
            " dense_24 (Dense)            (None, 500)               1152500   \n",
            "                                                                 \n",
            " dropout_25 (Dropout)        (None, 500)               0         \n",
            "                                                                 \n",
            " dense_25 (Dense)            (None, 5)                 2505      \n",
            "                                                                 \n",
            "=================================================================\n",
            "Total params: 1,165,549\n",
            "Trainable params: 1,165,549\n",
            "Non-trainable params: 0\n",
            "_________________________________________________________________\n"
          ]
        }
      ]
    },
    {
      "cell_type": "code",
      "source": [
        "# compile the model\n",
        "model.compile(loss='categorical_crossentropy', optimizer='adam', metrics=['accuracy'])\n",
        "model.fit(x_train,y_train,batch_size=50,epochs=100,verbose=1)\n",
        "score = model.evaluate(x_test, y_test, verbose=1)\n",
        "print('\\n', 'Test accuracy:', score[1])"
      ],
      "metadata": {
        "colab": {
          "base_uri": "https://localhost:8080/"
        },
        "id": "HOeUPOq4Vd2s",
        "outputId": "dd86aaf3-e168-4d91-edc9-b8e9dd4d1b1a"
      },
      "execution_count": 178,
      "outputs": [
        {
          "output_type": "stream",
          "name": "stdout",
          "text": [
            "Epoch 1/100\n",
            "14/14 [==============================] - 1s 15ms/step - loss: 1.5138 - accuracy: 0.3420\n",
            "Epoch 2/100\n",
            "14/14 [==============================] - 0s 6ms/step - loss: 1.3508 - accuracy: 0.4519\n",
            "Epoch 3/100\n",
            "14/14 [==============================] - 0s 5ms/step - loss: 1.2716 - accuracy: 0.4824\n",
            "Epoch 4/100\n",
            "14/14 [==============================] - 0s 6ms/step - loss: 1.2325 - accuracy: 0.5130\n",
            "Epoch 5/100\n",
            "14/14 [==============================] - 0s 6ms/step - loss: 1.1830 - accuracy: 0.5160\n",
            "Epoch 6/100\n",
            "14/14 [==============================] - 0s 6ms/step - loss: 1.1308 - accuracy: 0.5450\n",
            "Epoch 7/100\n",
            "14/14 [==============================] - 0s 6ms/step - loss: 1.0468 - accuracy: 0.6076\n",
            "Epoch 8/100\n",
            "14/14 [==============================] - 0s 6ms/step - loss: 0.9639 - accuracy: 0.6382\n",
            "Epoch 9/100\n",
            "14/14 [==============================] - 0s 5ms/step - loss: 0.9090 - accuracy: 0.6534\n",
            "Epoch 10/100\n",
            "14/14 [==============================] - 0s 5ms/step - loss: 0.8727 - accuracy: 0.6779\n",
            "Epoch 11/100\n",
            "14/14 [==============================] - 0s 5ms/step - loss: 0.8003 - accuracy: 0.7115\n",
            "Epoch 12/100\n",
            "14/14 [==============================] - 0s 7ms/step - loss: 0.7858 - accuracy: 0.7359\n",
            "Epoch 13/100\n",
            "14/14 [==============================] - 0s 6ms/step - loss: 0.7389 - accuracy: 0.7130\n",
            "Epoch 14/100\n",
            "14/14 [==============================] - 0s 5ms/step - loss: 0.6823 - accuracy: 0.7817\n",
            "Epoch 15/100\n",
            "14/14 [==============================] - 0s 5ms/step - loss: 0.6124 - accuracy: 0.7863\n",
            "Epoch 16/100\n",
            "14/14 [==============================] - 0s 5ms/step - loss: 0.5703 - accuracy: 0.8046\n",
            "Epoch 17/100\n",
            "14/14 [==============================] - 0s 5ms/step - loss: 0.4894 - accuracy: 0.8443\n",
            "Epoch 18/100\n",
            "14/14 [==============================] - 0s 5ms/step - loss: 0.5242 - accuracy: 0.8229\n",
            "Epoch 19/100\n",
            "14/14 [==============================] - 0s 6ms/step - loss: 0.4688 - accuracy: 0.8656\n",
            "Epoch 20/100\n",
            "14/14 [==============================] - 0s 5ms/step - loss: 0.4946 - accuracy: 0.8229\n",
            "Epoch 21/100\n",
            "14/14 [==============================] - 0s 5ms/step - loss: 0.3864 - accuracy: 0.8885\n",
            "Epoch 22/100\n",
            "14/14 [==============================] - 0s 6ms/step - loss: 0.3773 - accuracy: 0.8840\n",
            "Epoch 23/100\n",
            "14/14 [==============================] - 0s 6ms/step - loss: 0.3557 - accuracy: 0.8901\n",
            "Epoch 24/100\n",
            "14/14 [==============================] - 0s 6ms/step - loss: 0.2760 - accuracy: 0.9328\n",
            "Epoch 25/100\n",
            "14/14 [==============================] - 0s 5ms/step - loss: 0.2883 - accuracy: 0.9267\n",
            "Epoch 26/100\n",
            "14/14 [==============================] - 0s 5ms/step - loss: 0.2721 - accuracy: 0.9115\n",
            "Epoch 27/100\n",
            "14/14 [==============================] - 0s 5ms/step - loss: 0.2339 - accuracy: 0.9328\n",
            "Epoch 28/100\n",
            "14/14 [==============================] - 0s 5ms/step - loss: 0.2172 - accuracy: 0.9344\n",
            "Epoch 29/100\n",
            "14/14 [==============================] - 0s 5ms/step - loss: 0.1896 - accuracy: 0.9481\n",
            "Epoch 30/100\n",
            "14/14 [==============================] - 0s 5ms/step - loss: 0.1622 - accuracy: 0.9573\n",
            "Epoch 31/100\n",
            "14/14 [==============================] - 0s 6ms/step - loss: 0.1269 - accuracy: 0.9725\n",
            "Epoch 32/100\n",
            "14/14 [==============================] - 0s 5ms/step - loss: 0.1383 - accuracy: 0.9634\n",
            "Epoch 33/100\n",
            "14/14 [==============================] - 0s 6ms/step - loss: 0.1411 - accuracy: 0.9573\n",
            "Epoch 34/100\n",
            "14/14 [==============================] - 0s 5ms/step - loss: 0.1193 - accuracy: 0.9771\n",
            "Epoch 35/100\n",
            "14/14 [==============================] - 0s 5ms/step - loss: 0.1161 - accuracy: 0.9679\n",
            "Epoch 36/100\n",
            "14/14 [==============================] - 0s 6ms/step - loss: 0.1090 - accuracy: 0.9710\n",
            "Epoch 37/100\n",
            "14/14 [==============================] - 0s 5ms/step - loss: 0.0846 - accuracy: 0.9802\n",
            "Epoch 38/100\n",
            "14/14 [==============================] - 0s 5ms/step - loss: 0.0849 - accuracy: 0.9786\n",
            "Epoch 39/100\n",
            "14/14 [==============================] - 0s 5ms/step - loss: 0.0941 - accuracy: 0.9832\n",
            "Epoch 40/100\n",
            "14/14 [==============================] - 0s 6ms/step - loss: 0.0790 - accuracy: 0.9771\n",
            "Epoch 41/100\n",
            "14/14 [==============================] - 0s 5ms/step - loss: 0.0860 - accuracy: 0.9756\n",
            "Epoch 42/100\n",
            "14/14 [==============================] - 0s 5ms/step - loss: 0.0770 - accuracy: 0.9863\n",
            "Epoch 43/100\n",
            "14/14 [==============================] - 0s 5ms/step - loss: 0.0634 - accuracy: 0.9863\n",
            "Epoch 44/100\n",
            "14/14 [==============================] - 0s 5ms/step - loss: 0.0965 - accuracy: 0.9786\n",
            "Epoch 45/100\n",
            "14/14 [==============================] - 0s 5ms/step - loss: 0.0681 - accuracy: 0.9878\n",
            "Epoch 46/100\n",
            "14/14 [==============================] - 0s 5ms/step - loss: 0.0715 - accuracy: 0.9847\n",
            "Epoch 47/100\n",
            "14/14 [==============================] - 0s 5ms/step - loss: 0.0623 - accuracy: 0.9802\n",
            "Epoch 48/100\n",
            "14/14 [==============================] - 0s 5ms/step - loss: 0.0558 - accuracy: 0.9878\n",
            "Epoch 49/100\n",
            "14/14 [==============================] - 0s 6ms/step - loss: 0.0418 - accuracy: 0.9969\n",
            "Epoch 50/100\n",
            "14/14 [==============================] - 0s 6ms/step - loss: 0.0510 - accuracy: 0.9893\n",
            "Epoch 51/100\n",
            "14/14 [==============================] - 0s 5ms/step - loss: 0.0365 - accuracy: 0.9924\n",
            "Epoch 52/100\n",
            "14/14 [==============================] - 0s 5ms/step - loss: 0.0405 - accuracy: 0.9878\n",
            "Epoch 53/100\n",
            "14/14 [==============================] - 0s 5ms/step - loss: 0.0351 - accuracy: 0.9939\n",
            "Epoch 54/100\n",
            "14/14 [==============================] - 0s 5ms/step - loss: 0.0321 - accuracy: 0.9939\n",
            "Epoch 55/100\n",
            "14/14 [==============================] - 0s 6ms/step - loss: 0.0371 - accuracy: 0.9924\n",
            "Epoch 56/100\n",
            "14/14 [==============================] - 0s 5ms/step - loss: 0.0498 - accuracy: 0.9878\n",
            "Epoch 57/100\n",
            "14/14 [==============================] - 0s 5ms/step - loss: 0.1851 - accuracy: 0.9420\n",
            "Epoch 58/100\n",
            "14/14 [==============================] - 0s 5ms/step - loss: 0.1515 - accuracy: 0.9603\n",
            "Epoch 59/100\n",
            "14/14 [==============================] - 0s 5ms/step - loss: 0.1173 - accuracy: 0.9618\n",
            "Epoch 60/100\n",
            "14/14 [==============================] - 0s 5ms/step - loss: 0.0678 - accuracy: 0.9863\n",
            "Epoch 61/100\n",
            "14/14 [==============================] - 0s 6ms/step - loss: 0.0618 - accuracy: 0.9878\n",
            "Epoch 62/100\n",
            "14/14 [==============================] - 0s 5ms/step - loss: 0.0587 - accuracy: 0.9847\n",
            "Epoch 63/100\n",
            "14/14 [==============================] - 0s 5ms/step - loss: 0.0426 - accuracy: 0.9924\n",
            "Epoch 64/100\n",
            "14/14 [==============================] - 0s 5ms/step - loss: 0.0363 - accuracy: 0.9908\n",
            "Epoch 65/100\n",
            "14/14 [==============================] - 0s 5ms/step - loss: 0.0282 - accuracy: 0.9939\n",
            "Epoch 66/100\n",
            "14/14 [==============================] - 0s 5ms/step - loss: 0.0356 - accuracy: 0.9908\n",
            "Epoch 67/100\n",
            "14/14 [==============================] - 0s 5ms/step - loss: 0.0933 - accuracy: 0.9725\n",
            "Epoch 68/100\n",
            "14/14 [==============================] - 0s 5ms/step - loss: 0.0453 - accuracy: 0.9939\n",
            "Epoch 69/100\n",
            "14/14 [==============================] - 0s 6ms/step - loss: 0.0312 - accuracy: 0.9908\n",
            "Epoch 70/100\n",
            "14/14 [==============================] - 0s 5ms/step - loss: 0.0268 - accuracy: 0.9924\n",
            "Epoch 71/100\n",
            "14/14 [==============================] - 0s 5ms/step - loss: 0.0229 - accuracy: 0.9985\n",
            "Epoch 72/100\n",
            "14/14 [==============================] - 0s 5ms/step - loss: 0.0292 - accuracy: 0.9939\n",
            "Epoch 73/100\n",
            "14/14 [==============================] - 0s 5ms/step - loss: 0.0195 - accuracy: 0.9939\n",
            "Epoch 74/100\n",
            "14/14 [==============================] - 0s 6ms/step - loss: 0.0373 - accuracy: 0.9893\n",
            "Epoch 75/100\n",
            "14/14 [==============================] - 0s 5ms/step - loss: 0.0265 - accuracy: 0.9924\n",
            "Epoch 76/100\n",
            "14/14 [==============================] - 0s 5ms/step - loss: 0.0317 - accuracy: 0.9924\n",
            "Epoch 77/100\n",
            "14/14 [==============================] - 0s 5ms/step - loss: 0.0206 - accuracy: 0.9939\n",
            "Epoch 78/100\n",
            "14/14 [==============================] - 0s 5ms/step - loss: 0.0212 - accuracy: 0.9939\n",
            "Epoch 79/100\n",
            "14/14 [==============================] - 0s 5ms/step - loss: 0.0246 - accuracy: 0.9924\n",
            "Epoch 80/100\n",
            "14/14 [==============================] - 0s 5ms/step - loss: 0.0211 - accuracy: 0.9939\n",
            "Epoch 81/100\n",
            "14/14 [==============================] - 0s 5ms/step - loss: 0.0193 - accuracy: 0.9939\n",
            "Epoch 82/100\n",
            "14/14 [==============================] - 0s 5ms/step - loss: 0.0223 - accuracy: 0.9908\n",
            "Epoch 83/100\n",
            "14/14 [==============================] - 0s 5ms/step - loss: 0.0190 - accuracy: 0.9924\n",
            "Epoch 84/100\n",
            "14/14 [==============================] - 0s 5ms/step - loss: 0.0153 - accuracy: 0.9954\n",
            "Epoch 85/100\n",
            "14/14 [==============================] - 0s 5ms/step - loss: 0.0228 - accuracy: 0.9924\n",
            "Epoch 86/100\n",
            "14/14 [==============================] - 0s 6ms/step - loss: 0.0311 - accuracy: 0.9908\n",
            "Epoch 87/100\n",
            "14/14 [==============================] - 0s 5ms/step - loss: 0.0512 - accuracy: 0.9863\n",
            "Epoch 88/100\n",
            "14/14 [==============================] - 0s 5ms/step - loss: 0.0602 - accuracy: 0.9847\n",
            "Epoch 89/100\n",
            "14/14 [==============================] - 0s 5ms/step - loss: 0.0357 - accuracy: 0.9924\n",
            "Epoch 90/100\n",
            "14/14 [==============================] - 0s 5ms/step - loss: 0.0523 - accuracy: 0.9878\n",
            "Epoch 91/100\n",
            "14/14 [==============================] - 0s 6ms/step - loss: 0.0349 - accuracy: 0.9924\n",
            "Epoch 92/100\n",
            "14/14 [==============================] - 0s 5ms/step - loss: 0.0284 - accuracy: 0.9908\n",
            "Epoch 93/100\n",
            "14/14 [==============================] - 0s 5ms/step - loss: 0.0267 - accuracy: 0.9924\n",
            "Epoch 94/100\n",
            "14/14 [==============================] - 0s 5ms/step - loss: 0.0207 - accuracy: 0.9939\n",
            "Epoch 95/100\n",
            "14/14 [==============================] - 0s 5ms/step - loss: 0.0163 - accuracy: 0.9939\n",
            "Epoch 96/100\n",
            "14/14 [==============================] - 0s 5ms/step - loss: 0.0186 - accuracy: 0.9939\n",
            "Epoch 97/100\n",
            "14/14 [==============================] - 0s 5ms/step - loss: 0.0173 - accuracy: 0.9954\n",
            "Epoch 98/100\n",
            "14/14 [==============================] - 0s 5ms/step - loss: 0.0146 - accuracy: 0.9954\n",
            "Epoch 99/100\n",
            "14/14 [==============================] - 0s 5ms/step - loss: 0.0134 - accuracy: 0.9939\n",
            "Epoch 100/100\n",
            "14/14 [==============================] - 0s 5ms/step - loss: 0.0203 - accuracy: 0.9939\n",
            "WARNING:tensorflow:5 out of the last 12 calls to <function Model.make_test_function.<locals>.test_function at 0x7f78563d3c20> triggered tf.function retracing. Tracing is expensive and the excessive number of tracings could be due to (1) creating @tf.function repeatedly in a loop, (2) passing tensors with different shapes, (3) passing Python objects instead of tensors. For (1), please define your @tf.function outside of the loop. For (2), @tf.function has experimental_relax_shapes=True option that relaxes argument shapes that can avoid unnecessary retracing. For (3), please refer to https://www.tensorflow.org/guide/function#controlling_retracing and https://www.tensorflow.org/api_docs/python/tf/function for  more details.\n",
            "3/3 [==============================] - 0s 30ms/step - loss: 2.4684 - accuracy: 0.6944\n",
            "\n",
            " Test accuracy: 0.6944444179534912\n"
          ]
        }
      ]
    },
    {
      "cell_type": "code",
      "source": [
        "def convert_to_array(img):\n",
        "    im = cv2.imread(img)\n",
        "    img = Image.fromarray(im, 'RGB')\n",
        "    image = img.resize((50, 50))\n",
        "    return np.array(image)"
      ],
      "metadata": {
        "id": "OoR48dDlbNcC"
      },
      "execution_count": 179,
      "outputs": []
    },
    {
      "cell_type": "code",
      "source": [
        "def get_animal_name(label):\n",
        "    if label == 0:\n",
        "        return \"cat\"\n",
        "    if label == 1:\n",
        "        return \"dog\"\n",
        "    if label == 2:\n",
        "      return \"snake\"\n",
        "    if label == 3:\n",
        "      return \"fish\"\n",
        "    if label == 4:\n",
        "      return \"elephant\"\n",
        "    "
      ],
      "metadata": {
        "id": "GfJ1cgI5biqX"
      },
      "execution_count": 180,
      "outputs": []
    },
    {
      "cell_type": "code",
      "source": [
        "\n",
        "def predict_animal(file):\n",
        "    print(\"Predicting .................................\")\n",
        "    ar = convert_to_array(file)\n",
        "    ar = ar / 255\n",
        "    label = 1\n",
        "    a = []\n",
        "    a.append(ar)\n",
        "    a = np.array(a)\n",
        "    score = model.predict(a, verbose=1)\n",
        "    print(score)\n",
        "    label_index = np.argmax(score)\n",
        "    print(label_index)\n",
        "    acc = np.max(score)\n",
        "    animal = get_animal_name(label_index)\n",
        "    print(animal)\n",
        "    print(\"The predicted Animal is a \" + str(animal) + \" with accuracy = \" + str(acc))"
      ],
      "metadata": {
        "id": "XLZe-1aub8UM"
      },
      "execution_count": 181,
      "outputs": []
    },
    {
      "cell_type": "code",
      "source": [
        "predict_animal(\"/content/drive/MyDrive/dataset/test/viper.jpg\")"
      ],
      "metadata": {
        "colab": {
          "base_uri": "https://localhost:8080/"
        },
        "id": "sHrucS_zcKV1",
        "outputId": "07d90a22-5f8d-4993-9642-d9f0a308ced3"
      },
      "execution_count": 184,
      "outputs": [
        {
          "output_type": "stream",
          "name": "stdout",
          "text": [
            "Predicting .................................\n",
            "1/1 [==============================] - 0s 37ms/step\n",
            "[[0.03226424 0.03720525 0.9268365  0.00094945 0.00274461]]\n",
            "2\n",
            "snake\n",
            "The predicted Animal is a snake with accuracy = 0.9268365\n"
          ]
        }
      ]
    },
    {
      "cell_type": "code",
      "source": [
        "#serialize model to JSON\n",
        "model_json = model.to_json()\n",
        "with open(\"model.json\", \"w\") as json_file:\n",
        "    json_file.write(model_json)\n",
        "# serialize weights to HDF5\n",
        "model.save_weights(\"model.h5\")\n",
        "print(\"Saved model to disk\")\n"
      ],
      "metadata": {
        "colab": {
          "base_uri": "https://localhost:8080/"
        },
        "id": "nCv8nUUIcc71",
        "outputId": "c5f95216-f5c4-48f3-d1cc-d481f9f843f4"
      },
      "execution_count": 183,
      "outputs": [
        {
          "output_type": "stream",
          "name": "stdout",
          "text": [
            "Saved model to disk\n"
          ]
        }
      ]
    }
  ]
}